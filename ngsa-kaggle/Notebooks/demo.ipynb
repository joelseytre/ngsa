{
 "cells": [
  {
   "cell_type": "code",
   "execution_count": 1,
   "metadata": {},
   "outputs": [
    {
     "name": "stdout",
     "output_type": "stream",
     "text": [
      "/Users/adib/Documents/Cours/Projet/NGSA/ngsa/ngsa-kaggle\n"
     ]
    }
   ],
   "source": [
    "import numpy as np\n",
    "%cd .."
   ]
  },
  {
   "cell_type": "code",
   "execution_count": 13,
   "metadata": {
    "collapsed": true
   },
   "outputs": [],
   "source": [
    "import warnings\n",
    "warnings.filterwarnings('ignore')"
   ]
  },
  {
   "cell_type": "code",
   "execution_count": 3,
   "metadata": {},
   "outputs": [],
   "source": [
    "%load_ext autoreload\n",
    "\n",
    "%autoreload 2"
   ]
  },
  {
   "cell_type": "code",
   "execution_count": 4,
   "metadata": {
    "collapsed": true
   },
   "outputs": [],
   "source": [
    "from predictor_settings import predictor_settings\n",
    "from predictors.NGSApredictor import NGSApredictor\n",
    "from predictors.svm_baseline import BaselineSVM\n",
    "from predictors.gradboost import Gradboost\n",
    "from predictors.randomforest import RandomForest"
   ]
  },
  {
   "cell_type": "markdown",
   "metadata": {},
   "source": [
    "# SVM"
   ]
  },
  {
   "cell_type": "code",
   "execution_count": 5,
   "metadata": {},
   "outputs": [
    {
     "name": "stdout",
     "output_type": "stream",
     "text": [
      "[nltk_data] Downloading package punkt to /Users/adib/nltk_data...\n",
      "[nltk_data]   Package punkt is already up-to-date!\n",
      "[nltk_data] Downloading package stopwords to /Users/adib/nltk_data...\n",
      "[nltk_data]   Package stopwords is already up-to-date!\n",
      "predictors\n",
      "\n",
      "\n",
      "Predicting stuff... \n",
      "Training: 615512 \n",
      "Reduced training: 61551 \n",
      "Testing: 32648\n",
      "\n",
      "Read features from stored data!\n"
     ]
    }
   ],
   "source": [
    "svm = BaselineSVM(predictor_settings)\n",
    "svm.load_features(\"stored_training_v2.txt\", \"stored_testing_v2.txt\")"
   ]
  },
  {
   "cell_type": "code",
   "execution_count": 6,
   "metadata": {},
   "outputs": [
    {
     "name": "stdout",
     "output_type": "stream",
     "text": [
      "SVM trained with C = 0.01\n",
      "SVM model: F1 score - Training 0.910 - Validation 0.914\n",
      "-----------\n",
      "SVM trained with C = 0.1\n",
      "SVM model: F1 score - Training 0.912 - Validation 0.915\n",
      "-----------\n",
      "SVM trained with C = 1\n",
      "SVM model: F1 score - Training 0.912 - Validation 0.914\n",
      "-----------\n",
      "SVM trained with C = 10\n",
      "SVM model: F1 score - Training 0.913 - Validation 0.915\n",
      "-----------\n",
      "SVM trained with C = 100\n",
      "SVM model: F1 score - Training 0.914 - Validation 0.916\n",
      "-----------\n"
     ]
    }
   ],
   "source": [
    "for c in [10**i for i in range(-2,3)]:\n",
    "    print \"SVM trained with C =\", c\n",
    "    svm.run(c)\n",
    "    print '-----------'"
   ]
  },
  {
   "cell_type": "markdown",
   "metadata": {},
   "source": [
    "# Random Forest"
   ]
  },
  {
   "cell_type": "code",
   "execution_count": 7,
   "metadata": {},
   "outputs": [
    {
     "name": "stdout",
     "output_type": "stream",
     "text": [
      "[nltk_data] Downloading package punkt to /Users/adib/nltk_data...\n",
      "[nltk_data]   Package punkt is already up-to-date!\n",
      "[nltk_data] Downloading package stopwords to /Users/adib/nltk_data...\n",
      "[nltk_data]   Package stopwords is already up-to-date!\n",
      "predictors\n",
      "\n",
      "\n",
      "Predicting stuff... \n",
      "Training: 615512 \n",
      "Reduced training: 61551 \n",
      "Testing: 32648\n",
      "\n",
      "Read features from stored data!\n"
     ]
    }
   ],
   "source": [
    "rf = RandomForest(predictor_settings)\n",
    "rf.load_features(\"stored_training_v2.txt\", \"stored_testing_v2.txt\")"
   ]
  },
  {
   "cell_type": "code",
   "execution_count": 8,
   "metadata": {
    "scrolled": true
   },
   "outputs": [
    {
     "name": "stdout",
     "output_type": "stream",
     "text": [
      "Random Forest trained with 10 trees\n",
      "Random Forest model: F1 score - Training 0.997 - Validation 0.973\n",
      "-----------\n",
      "Random Forest trained with 100 trees\n",
      "Random Forest model: F1 score - Training 1.000 - Validation 0.975\n",
      "-----------\n",
      "Random Forest trained with 1000 trees\n",
      "Random Forest model: F1 score - Training 1.000 - Validation 0.975\n",
      "-----------\n"
     ]
    }
   ],
   "source": [
    "for n in [10**i for i in range(1,4)]:\n",
    "    print \"Random Forest trained with\", n, 'trees'\n",
    "    rf.run(n,None)\n",
    "    print '-----------'"
   ]
  },
  {
   "cell_type": "code",
   "execution_count": 9,
   "metadata": {},
   "outputs": [
    {
     "name": "stdout",
     "output_type": "stream",
     "text": [
      "Random Forest trained with 100 trees of depth 5\n",
      "Random Forest model: F1 score - Training 1.000 - Validation 0.976\n",
      "-----------\n",
      "Random Forest trained with 100 trees of depth 10\n",
      "Random Forest model: F1 score - Training 1.000 - Validation 0.976\n",
      "-----------\n",
      "Random Forest trained with 100 trees of depth 15\n",
      "Random Forest model: F1 score - Training 1.000 - Validation 0.975\n",
      "-----------\n",
      "Random Forest trained with 100 trees of depth 20\n",
      "Random Forest model: F1 score - Training 1.000 - Validation 0.975\n",
      "-----------\n",
      "Random Forest trained with 100 trees of depth 25\n",
      "Random Forest model: F1 score - Training 1.000 - Validation 0.976\n",
      "-----------\n",
      "Random Forest trained with 100 trees of depth 30\n",
      "Random Forest model: F1 score - Training 1.000 - Validation 0.976\n",
      "-----------\n",
      "Random Forest trained with 100 trees of depth 35\n",
      "Random Forest model: F1 score - Training 1.000 - Validation 0.976\n",
      "-----------\n",
      "Random Forest trained with 100 trees of depth 40\n",
      "Random Forest model: F1 score - Training 1.000 - Validation 0.975\n",
      "-----------\n",
      "Random Forest trained with 100 trees of depth 45\n",
      "Random Forest model: F1 score - Training 1.000 - Validation 0.976\n",
      "-----------\n",
      "Random Forest trained with 100 trees of depth 50\n",
      "Random Forest model: F1 score - Training 1.000 - Validation 0.975\n",
      "-----------\n"
     ]
    }
   ],
   "source": [
    "for d in [5*i for i in range(1,11)]:\n",
    "    print \"Random Forest trained with 100 trees of depth\", d\n",
    "    rf.run(100,None)\n",
    "    print '-----------'"
   ]
  },
  {
   "cell_type": "markdown",
   "metadata": {},
   "source": [
    "## Gradboost"
   ]
  },
  {
   "cell_type": "code",
   "execution_count": 5,
   "metadata": {},
   "outputs": [
    {
     "name": "stdout",
     "output_type": "stream",
     "text": [
      "[nltk_data] Downloading package punkt to /Users/adib/nltk_data...\n",
      "[nltk_data]   Package punkt is already up-to-date!\n",
      "[nltk_data] Downloading package stopwords to /Users/adib/nltk_data...\n",
      "[nltk_data]   Package stopwords is already up-to-date!\n",
      "predictors\n",
      "\n",
      "\n",
      "Predicting stuff... \n",
      "Training: 615512 \n",
      "Reduced training: 61551 \n",
      "Testing: 32648\n",
      "\n",
      "Read features from stored data!\n"
     ]
    }
   ],
   "source": [
    "gb = Gradboost(predictor_settings)\n",
    "gb.load_features(\"stored_training_v2.txt\", \"stored_testing_v2.txt\")"
   ]
  },
  {
   "cell_type": "code",
   "execution_count": 15,
   "metadata": {},
   "outputs": [
    {
     "name": "stdout",
     "output_type": "stream",
     "text": [
      "Gradboost with lambda = 0.25\n",
      "Gradboost model: F1 score - Training 0.978 - Validation 0.976\n",
      "-----------\n",
      "Gradboost with lambda = 0.5\n",
      "Gradboost model: F1 score - Training 0.978 - Validation 0.976\n",
      "-----------\n",
      "Gradboost with lambda = 1\n",
      "Gradboost model: F1 score - Training 0.978 - Validation 0.976\n",
      "-----------\n",
      "Gradboost with lambda = 2\n",
      "Gradboost model: F1 score - Training 0.978 - Validation 0.976\n",
      "-----------\n",
      "Gradboost with lambda = 4\n",
      "Gradboost model: F1 score - Training 0.978 - Validation 0.976\n",
      "-----------\n",
      "Gradboost with lambda = 8\n",
      "Gradboost model: F1 score - Training 0.977 - Validation 0.975\n",
      "-----------\n",
      "Gradboost with lambda = 16\n",
      "Gradboost model: F1 score - Training 0.977 - Validation 0.976\n",
      "-----------\n",
      "Gradboost with lambda = 32\n",
      "Gradboost model: F1 score - Training 0.978 - Validation 0.975\n",
      "-----------\n",
      "Gradboost with lambda = 64\n",
      "Gradboost model: F1 score - Training 0.978 - Validation 0.976\n",
      "-----------\n",
      "Gradboost with lambda = 128\n",
      "Gradboost model: F1 score - Training 0.977 - Validation 0.976\n",
      "-----------\n",
      "Gradboost with lambda = 256\n",
      "Gradboost model: F1 score - Training 0.977 - Validation 0.977\n",
      "-----------\n",
      "Gradboost with lambda = 512\n",
      "Gradboost model: F1 score - Training 0.977 - Validation 0.976\n",
      "-----------\n"
     ]
    }
   ],
   "source": [
    "for lmbda in [2**i for i in range(-2,10)]:\n",
    "    print \"Gradboost with lambda =\", lmbda\n",
    "    gb.run(lmbda)\n",
    "    print '-----------'"
   ]
  },
  {
   "cell_type": "markdown",
   "metadata": {},
   "source": [
    "# Features importance"
   ]
  },
  {
   "cell_type": "code",
   "execution_count": 6,
   "metadata": {},
   "outputs": [
    {
     "name": "stdout",
     "output_type": "stream",
     "text": [
      "[nltk_data] Downloading package punkt to /Users/adib/nltk_data...\n",
      "[nltk_data]   Package punkt is already up-to-date!\n",
      "[nltk_data] Downloading package stopwords to /Users/adib/nltk_data...\n",
      "[nltk_data]   Package stopwords is already up-to-date!\n",
      "predictors\n",
      "\n",
      "\n",
      "Predicting stuff... \n",
      "Training: 615512 \n",
      "Reduced training: 61551 \n",
      "Testing: 32648\n",
      "\n",
      "Read features from stored data!\n"
     ]
    }
   ],
   "source": [
    "gb = Gradboost(predictor_settings)\n",
    "gb.load_features(\"stored_training_v2.txt\", \"stored_testing_v2.txt\")"
   ]
  },
  {
   "cell_type": "code",
   "execution_count": 7,
   "metadata": {
    "collapsed": true
   },
   "outputs": [],
   "source": [
    "features_list = ['overlap_title', 'temp_diff', 'comm_auth','tfidf_distance_corpus', 'tfidf_distance_titles',\n",
    "                 'tfidf_distance_authors','num_inc_edges', 'shortest_path_dijkstra',\n",
    "                 'shortest_path_dijkstra_und', 'jaccard_und']"
   ]
  },
  {
   "cell_type": "code",
   "execution_count": 14,
   "metadata": {},
   "outputs": [
    {
     "name": "stdout",
     "output_type": "stream",
     "text": [
      "Gradboost Model with removed feature: overlap_title\n",
      "Gradboost model: F1 score - Training 0.978 - Validation 0.976\n",
      "-----------\n",
      "Gradboost Model with removed feature: temp_diff\n",
      "Gradboost model: F1 score - Training 0.971 - Validation 0.970\n",
      "-----------\n",
      "Gradboost Model with removed feature: comm_auth\n",
      "Gradboost model: F1 score - Training 0.977 - Validation 0.976\n",
      "-----------\n",
      "Gradboost Model with removed feature: tfidf_distance_corpus\n",
      "Gradboost model: F1 score - Training 0.974 - Validation 0.973\n",
      "-----------\n",
      "Gradboost Model with removed feature: tfidf_distance_titles\n",
      "Gradboost model: F1 score - Training 0.977 - Validation 0.975\n",
      "-----------\n",
      "Gradboost Model with removed feature: tfidf_distance_authors\n",
      "Gradboost model: F1 score - Training 0.977 - Validation 0.975\n",
      "-----------\n",
      "Gradboost Model with removed feature: num_inc_edges\n",
      "Gradboost model: F1 score - Training 0.977 - Validation 0.976\n",
      "-----------\n",
      "Gradboost Model with removed feature: shortest_path_dijkstra\n",
      "Gradboost model: F1 score - Training 0.976 - Validation 0.976\n",
      "-----------\n",
      "Gradboost Model with removed feature: shortest_path_dijkstra_und\n",
      "Gradboost model: F1 score - Training 0.960 - Validation 0.958\n",
      "-----------\n"
     ]
    },
    {
     "ename": "IndexError",
     "evalue": "index 9 is out of bounds for axis 1 with size 9",
     "output_type": "error",
     "traceback": [
      "\u001b[0;31m---------------------------------------------------------------------------\u001b[0m",
      "\u001b[0;31mIndexError\u001b[0m                                Traceback (most recent call last)",
      "\u001b[0;32m<ipython-input-14-ce4b83943100>\u001b[0m in \u001b[0;36m<module>\u001b[0;34m()\u001b[0m\n\u001b[1;32m      1\u001b[0m \u001b[0;32mfor\u001b[0m \u001b[0mfeat\u001b[0m \u001b[0;32min\u001b[0m \u001b[0mfeatures_list\u001b[0m\u001b[0;34m:\u001b[0m\u001b[0;34m\u001b[0m\u001b[0m\n\u001b[0;32m----> 2\u001b[0;31m     \u001b[0mgb\u001b[0m\u001b[0;34m.\u001b[0m\u001b[0mrun_\u001b[0m\u001b[0;34m(\u001b[0m\u001b[0mfeat\u001b[0m\u001b[0;34m)\u001b[0m\u001b[0;34m\u001b[0m\u001b[0m\n\u001b[0m\u001b[1;32m      3\u001b[0m     \u001b[0;32mprint\u001b[0m \u001b[0;34m'-----------'\u001b[0m\u001b[0;34m\u001b[0m\u001b[0m\n",
      "\u001b[0;32m/Users/adib/Documents/Cours/Projet/NGSA/ngsa/ngsa-kaggle/predictors/gradboost.py\u001b[0m in \u001b[0;36mrun_\u001b[0;34m(self, feat)\u001b[0m\n\u001b[1;32m     33\u001b[0m             \u001b[0mfeat_to_idx\u001b[0m \u001b[0;34m=\u001b[0m \u001b[0mdict\u001b[0m\u001b[0;34m(\u001b[0m\u001b[0mzip\u001b[0m\u001b[0;34m(\u001b[0m\u001b[0mfeatures_list\u001b[0m\u001b[0;34m,\u001b[0m \u001b[0mrange\u001b[0m\u001b[0;34m(\u001b[0m\u001b[0mlen\u001b[0m\u001b[0;34m(\u001b[0m\u001b[0mfeatures_list\u001b[0m\u001b[0;34m)\u001b[0m\u001b[0;34m)\u001b[0m\u001b[0;34m)\u001b[0m\u001b[0;34m)\u001b[0m\u001b[0;34m\u001b[0m\u001b[0m\n\u001b[1;32m     34\u001b[0m \u001b[0;34m\u001b[0m\u001b[0m\n\u001b[0;32m---> 35\u001b[0;31m             \u001b[0mfeat_train\u001b[0m \u001b[0;34m=\u001b[0m \u001b[0mnp\u001b[0m\u001b[0;34m.\u001b[0m\u001b[0mdelete\u001b[0m\u001b[0;34m(\u001b[0m\u001b[0mself\u001b[0m\u001b[0;34m.\u001b[0m\u001b[0mfeatures\u001b[0m\u001b[0;34m[\u001b[0m\u001b[0;34m'train_data'\u001b[0m\u001b[0;34m]\u001b[0m\u001b[0;34m,\u001b[0m \u001b[0mfeat_to_idx\u001b[0m\u001b[0;34m[\u001b[0m\u001b[0mfeat\u001b[0m\u001b[0;34m]\u001b[0m\u001b[0;34m,\u001b[0m \u001b[0;36m1\u001b[0m\u001b[0;34m)\u001b[0m\u001b[0;34m\u001b[0m\u001b[0m\n\u001b[0m\u001b[1;32m     36\u001b[0m             \u001b[0mfeat_valid\u001b[0m \u001b[0;34m=\u001b[0m \u001b[0mnp\u001b[0m\u001b[0;34m.\u001b[0m\u001b[0mdelete\u001b[0m\u001b[0;34m(\u001b[0m\u001b[0mself\u001b[0m\u001b[0;34m.\u001b[0m\u001b[0mfeatures\u001b[0m\u001b[0;34m[\u001b[0m\u001b[0;34m'valid_data'\u001b[0m\u001b[0;34m]\u001b[0m\u001b[0;34m,\u001b[0m \u001b[0mfeat_to_idx\u001b[0m\u001b[0;34m[\u001b[0m\u001b[0mfeat\u001b[0m\u001b[0;34m]\u001b[0m\u001b[0;34m,\u001b[0m \u001b[0;36m1\u001b[0m\u001b[0;34m)\u001b[0m\u001b[0;34m\u001b[0m\u001b[0m\n\u001b[1;32m     37\u001b[0m \u001b[0;34m\u001b[0m\u001b[0m\n",
      "\u001b[0;32m/Users/adib/anaconda3/envs/py27/lib/python2.7/site-packages/numpy/lib/function_base.pyc\u001b[0m in \u001b[0;36mdelete\u001b[0;34m(arr, obj, axis)\u001b[0m\n\u001b[1;32m   4856\u001b[0m             raise IndexError(\n\u001b[1;32m   4857\u001b[0m                 \u001b[0;34m\"index %i is out of bounds for axis %i with \"\u001b[0m\u001b[0;34m\u001b[0m\u001b[0m\n\u001b[0;32m-> 4858\u001b[0;31m                 \"size %i\" % (obj, axis, N))\n\u001b[0m\u001b[1;32m   4859\u001b[0m         \u001b[0;32mif\u001b[0m \u001b[0;34m(\u001b[0m\u001b[0mobj\u001b[0m \u001b[0;34m<\u001b[0m \u001b[0;36m0\u001b[0m\u001b[0;34m)\u001b[0m\u001b[0;34m:\u001b[0m\u001b[0;34m\u001b[0m\u001b[0m\n\u001b[1;32m   4860\u001b[0m             \u001b[0mobj\u001b[0m \u001b[0;34m+=\u001b[0m \u001b[0mN\u001b[0m\u001b[0;34m\u001b[0m\u001b[0m\n",
      "\u001b[0;31mIndexError\u001b[0m: index 9 is out of bounds for axis 1 with size 9"
     ]
    }
   ],
   "source": [
    "for feat in features_list:\n",
    "    gb.run_(feat)\n",
    "    print '-----------'"
   ]
  },
  {
   "cell_type": "code",
   "execution_count": 15,
   "metadata": {},
   "outputs": [
    {
     "data": {
      "text/plain": [
       "[0, 1, 2, 3, 4, 5, 6, 7, 8, 9]"
      ]
     },
     "execution_count": 15,
     "metadata": {},
     "output_type": "execute_result"
    }
   ],
   "source": [
    "range(len(features_list))"
   ]
  },
  {
   "cell_type": "code",
   "execution_count": 17,
   "metadata": {},
   "outputs": [
    {
     "ename": "IndexError",
     "evalue": "index 9 is out of bounds for axis 1 with size 9",
     "output_type": "error",
     "traceback": [
      "\u001b[0;31m---------------------------------------------------------------------------\u001b[0m",
      "\u001b[0;31mIndexError\u001b[0m                                Traceback (most recent call last)",
      "\u001b[0;32m<ipython-input-17-34298207711a>\u001b[0m in \u001b[0;36m<module>\u001b[0;34m()\u001b[0m\n\u001b[0;32m----> 1\u001b[0;31m \u001b[0mnp\u001b[0m\u001b[0;34m.\u001b[0m\u001b[0mdelete\u001b[0m\u001b[0;34m(\u001b[0m\u001b[0mgb\u001b[0m\u001b[0;34m.\u001b[0m\u001b[0mfeatures\u001b[0m\u001b[0;34m[\u001b[0m\u001b[0;34m'train_data'\u001b[0m\u001b[0;34m]\u001b[0m\u001b[0;34m,\u001b[0m \u001b[0;36m9\u001b[0m\u001b[0;34m,\u001b[0m \u001b[0;36m1\u001b[0m\u001b[0;34m)\u001b[0m\u001b[0;34m\u001b[0m\u001b[0m\n\u001b[0m",
      "\u001b[0;32m/Users/adib/anaconda3/envs/py27/lib/python2.7/site-packages/numpy/lib/function_base.pyc\u001b[0m in \u001b[0;36mdelete\u001b[0;34m(arr, obj, axis)\u001b[0m\n\u001b[1;32m   4856\u001b[0m             raise IndexError(\n\u001b[1;32m   4857\u001b[0m                 \u001b[0;34m\"index %i is out of bounds for axis %i with \"\u001b[0m\u001b[0;34m\u001b[0m\u001b[0m\n\u001b[0;32m-> 4858\u001b[0;31m                 \"size %i\" % (obj, axis, N))\n\u001b[0m\u001b[1;32m   4859\u001b[0m         \u001b[0;32mif\u001b[0m \u001b[0;34m(\u001b[0m\u001b[0mobj\u001b[0m \u001b[0;34m<\u001b[0m \u001b[0;36m0\u001b[0m\u001b[0;34m)\u001b[0m\u001b[0;34m:\u001b[0m\u001b[0;34m\u001b[0m\u001b[0m\n\u001b[1;32m   4860\u001b[0m             \u001b[0mobj\u001b[0m \u001b[0;34m+=\u001b[0m \u001b[0mN\u001b[0m\u001b[0;34m\u001b[0m\u001b[0m\n",
      "\u001b[0;31mIndexError\u001b[0m: index 9 is out of bounds for axis 1 with size 9"
     ]
    }
   ],
   "source": [
    "np.delete(gb.features['train_data'], 9, 1)"
   ]
  },
  {
   "cell_type": "code",
   "execution_count": 21,
   "metadata": {},
   "outputs": [
    {
     "data": {
      "text/plain": [
       "(49240, 9)"
      ]
     },
     "execution_count": 21,
     "metadata": {},
     "output_type": "execute_result"
    }
   ],
   "source": [
    "gb.features['train_data'].shape"
   ]
  },
  {
   "cell_type": "code",
   "execution_count": 23,
   "metadata": {},
   "outputs": [
    {
     "ename": "IndexError",
     "evalue": "index 9 is out of bounds for axis 1 with size 9",
     "output_type": "error",
     "traceback": [
      "\u001b[0;31m---------------------------------------------------------------------------\u001b[0m",
      "\u001b[0;31mIndexError\u001b[0m                                Traceback (most recent call last)",
      "\u001b[0;32m<ipython-input-23-4659e953ac57>\u001b[0m in \u001b[0;36m<module>\u001b[0;34m()\u001b[0m\n\u001b[0;32m----> 1\u001b[0;31m \u001b[0mgb\u001b[0m\u001b[0;34m.\u001b[0m\u001b[0mfeatures\u001b[0m\u001b[0;34m[\u001b[0m\u001b[0;34m'train_data'\u001b[0m\u001b[0;34m]\u001b[0m\u001b[0;34m[\u001b[0m\u001b[0;36m0\u001b[0m\u001b[0;34m,\u001b[0m\u001b[0;36m9\u001b[0m\u001b[0;34m]\u001b[0m\u001b[0;34m\u001b[0m\u001b[0m\n\u001b[0m",
      "\u001b[0;31mIndexError\u001b[0m: index 9 is out of bounds for axis 1 with size 9"
     ]
    }
   ],
   "source": []
  },
  {
   "cell_type": "code",
   "execution_count": 19,
   "metadata": {},
   "outputs": [
    {
     "data": {
      "text/plain": [
       "10"
      ]
     },
     "execution_count": 19,
     "metadata": {},
     "output_type": "execute_result"
    }
   ],
   "source": [
    "len(features_list)"
   ]
  },
  {
   "cell_type": "code",
   "execution_count": null,
   "metadata": {
    "collapsed": true
   },
   "outputs": [],
   "source": []
  }
 ],
 "metadata": {
  "kernelspec": {
   "display_name": "Python 2",
   "language": "python",
   "name": "python2"
  },
  "language_info": {
   "codemirror_mode": {
    "name": "ipython",
    "version": 2
   },
   "file_extension": ".py",
   "mimetype": "text/x-python",
   "name": "python",
   "nbconvert_exporter": "python",
   "pygments_lexer": "ipython2",
   "version": "2.7.14"
  }
 },
 "nbformat": 4,
 "nbformat_minor": 2
}
