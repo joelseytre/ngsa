{
 "cells": [
  {
   "cell_type": "code",
   "execution_count": 1,
   "metadata": {},
   "outputs": [
    {
     "name": "stdout",
     "output_type": "stream",
     "text": [
      "/Users/adib/Documents/Cours/Projet/NGSA/ngsa/ngsa-kaggle\n"
     ]
    }
   ],
   "source": [
    "import numpy as np\n",
    "%cd .."
   ]
  },
  {
   "cell_type": "code",
   "execution_count": 16,
   "metadata": {
    "collapsed": true
   },
   "outputs": [],
   "source": [
    "import warnings\n",
    "warnings.filterwarnings('ignore')"
   ]
  },
  {
   "cell_type": "code",
   "execution_count": 4,
   "metadata": {
    "collapsed": true
   },
   "outputs": [],
   "source": [
    "%load_ext autoreload\n",
    "\n",
    "%autoreload 2"
   ]
  },
  {
   "cell_type": "code",
   "execution_count": 18,
   "metadata": {
    "collapsed": true
   },
   "outputs": [],
   "source": [
    "from predictor_settings import predictor_settings\n",
    "from predictors.NGSApredictor import NGSApredictor\n",
    "from predictors.svm_baseline import BaselineSVM\n",
    "from predictors.gradboost import Gradboost\n",
    "from predictors.randomforest import RandomForest"
   ]
  },
  {
   "cell_type": "markdown",
   "metadata": {},
   "source": [
    "# SVM"
   ]
  },
  {
   "cell_type": "code",
   "execution_count": 6,
   "metadata": {},
   "outputs": [
    {
     "name": "stdout",
     "output_type": "stream",
     "text": [
      "[nltk_data] Downloading package punkt to /Users/adib/nltk_data...\n",
      "[nltk_data]   Package punkt is already up-to-date!\n",
      "[nltk_data] Downloading package stopwords to /Users/adib/nltk_data...\n",
      "[nltk_data]   Package stopwords is already up-to-date!\n",
      "predictors\n",
      "\n",
      "\n",
      "Predicting stuff... \n",
      "Training: 615512 \n",
      "Reduced training: 61551 \n",
      "Testing: 32648\n",
      "\n",
      "Read features from stored data!\n"
     ]
    }
   ],
   "source": [
    "svm = BaselineSVM(predictor_settings)\n",
    "svm.load_features(\"stored_training_v3.txt\", \"stored_testing_v3.txt\")"
   ]
  },
  {
   "cell_type": "code",
   "execution_count": 7,
   "metadata": {},
   "outputs": [
    {
     "name": "stdout",
     "output_type": "stream",
     "text": [
      "SVM trained with C = 0.01\n",
      "SVM model: F1 score - Training 0.962 - Validation 0.963\n",
      "-----------\n",
      "SVM trained with C = 0.1\n",
      "SVM model: F1 score - Training 0.965 - Validation 0.967\n",
      "-----------\n",
      "SVM trained with C = 1\n",
      "SVM model: F1 score - Training 0.966 - Validation 0.968\n",
      "-----------\n",
      "SVM trained with C = 10\n",
      "SVM model: F1 score - Training 0.966 - Validation 0.968\n",
      "-----------\n",
      "SVM trained with C = 100\n",
      "SVM model: F1 score - Training 0.965 - Validation 0.966\n",
      "-----------\n"
     ]
    }
   ],
   "source": [
    "for c in [10**i for i in range(-2,3)]:\n",
    "    print \"SVM trained with C =\", c\n",
    "    svm.run(c)\n",
    "    print '-----------'"
   ]
  },
  {
   "cell_type": "markdown",
   "metadata": {},
   "source": [
    "# Random Forest"
   ]
  },
  {
   "cell_type": "code",
   "execution_count": 8,
   "metadata": {},
   "outputs": [
    {
     "name": "stdout",
     "output_type": "stream",
     "text": [
      "[nltk_data] Downloading package punkt to /Users/adib/nltk_data...\n",
      "[nltk_data]   Package punkt is already up-to-date!\n",
      "[nltk_data] Downloading package stopwords to /Users/adib/nltk_data...\n",
      "[nltk_data]   Package stopwords is already up-to-date!\n",
      "predictors\n",
      "\n",
      "\n",
      "Predicting stuff... \n",
      "Training: 615512 \n",
      "Reduced training: 61551 \n",
      "Testing: 32648\n",
      "\n",
      "Read features from stored data!\n"
     ]
    }
   ],
   "source": [
    "rf = RandomForest(predictor_settings)\n",
    "rf.load_features(\"stored_training_v3.txt\", \"stored_testing_v3.txt\")"
   ]
  },
  {
   "cell_type": "code",
   "execution_count": 9,
   "metadata": {
    "scrolled": true
   },
   "outputs": [
    {
     "name": "stdout",
     "output_type": "stream",
     "text": [
      "Random Forest trained with 10 trees\n",
      "Random Forest model: F1 score - Training 0.997 - Validation 0.973\n",
      "-----------\n",
      "Random Forest trained with 100 trees\n",
      "Random Forest model: F1 score - Training 1.000 - Validation 0.974\n",
      "-----------\n",
      "Random Forest trained with 1000 trees\n",
      "Random Forest model: F1 score - Training 1.000 - Validation 0.975\n",
      "-----------\n"
     ]
    }
   ],
   "source": [
    "for n in [10**i for i in range(1,4)]:\n",
    "    print \"Random Forest trained with\", n, 'trees'\n",
    "    rf.run(n,None)\n",
    "    print '-----------'"
   ]
  },
  {
   "cell_type": "code",
   "execution_count": 10,
   "metadata": {},
   "outputs": [
    {
     "name": "stdout",
     "output_type": "stream",
     "text": [
      "Random Forest trained with 100 trees of depth 5\n",
      "Random Forest model: F1 score - Training 1.000 - Validation 0.975\n",
      "-----------\n",
      "Random Forest trained with 100 trees of depth 10\n",
      "Random Forest model: F1 score - Training 1.000 - Validation 0.975\n",
      "-----------\n",
      "Random Forest trained with 100 trees of depth 15\n",
      "Random Forest model: F1 score - Training 1.000 - Validation 0.975\n",
      "-----------\n",
      "Random Forest trained with 100 trees of depth 20\n",
      "Random Forest model: F1 score - Training 1.000 - Validation 0.974\n",
      "-----------\n",
      "Random Forest trained with 100 trees of depth 25\n",
      "Random Forest model: F1 score - Training 1.000 - Validation 0.975\n",
      "-----------\n",
      "Random Forest trained with 100 trees of depth 30\n",
      "Random Forest model: F1 score - Training 1.000 - Validation 0.975\n",
      "-----------\n",
      "Random Forest trained with 100 trees of depth 35\n",
      "Random Forest model: F1 score - Training 1.000 - Validation 0.975\n",
      "-----------\n",
      "Random Forest trained with 100 trees of depth 40\n",
      "Random Forest model: F1 score - Training 1.000 - Validation 0.975\n",
      "-----------\n",
      "Random Forest trained with 100 trees of depth 45\n",
      "Random Forest model: F1 score - Training 1.000 - Validation 0.975\n",
      "-----------\n",
      "Random Forest trained with 100 trees of depth 50\n",
      "Random Forest model: F1 score - Training 1.000 - Validation 0.975\n",
      "-----------\n"
     ]
    }
   ],
   "source": [
    "for d in [5*i for i in range(1,11)]:\n",
    "    print \"Random Forest trained with 100 trees of depth\", d\n",
    "    rf.run(100,None)\n",
    "    print '-----------'"
   ]
  },
  {
   "cell_type": "markdown",
   "metadata": {},
   "source": [
    "## Gradboost"
   ]
  },
  {
   "cell_type": "code",
   "execution_count": 19,
   "metadata": {},
   "outputs": [
    {
     "name": "stdout",
     "output_type": "stream",
     "text": [
      "[nltk_data] Downloading package punkt to /Users/adib/nltk_data...\n",
      "[nltk_data]   Package punkt is already up-to-date!\n",
      "[nltk_data] Downloading package stopwords to /Users/adib/nltk_data...\n",
      "[nltk_data]   Package stopwords is already up-to-date!\n",
      "predictors\n",
      "\n",
      "\n",
      "Predicting stuff... \n",
      "Training: 615512 \n",
      "Reduced training: 61551 \n",
      "Testing: 32648\n",
      "\n",
      "Read features from stored data!\n"
     ]
    }
   ],
   "source": [
    "gb = Gradboost(predictor_settings)\n",
    "gb.load_features(\"stored_training_v3.txt\", \"stored_testing_v3.txt\")"
   ]
  },
  {
   "cell_type": "code",
   "execution_count": 20,
   "metadata": {},
   "outputs": [
    {
     "name": "stdout",
     "output_type": "stream",
     "text": [
      "Gradboost with lambda = 0.25\n",
      "Gradboost model: F1 score - Training 0.979 - Validation 0.976\n",
      "-----------\n",
      "Gradboost with lambda = 0.5\n",
      "Gradboost model: F1 score - Training 0.979 - Validation 0.976\n",
      "-----------\n",
      "Gradboost with lambda = 1\n",
      "Gradboost model: F1 score - Training 0.978 - Validation 0.975\n",
      "-----------\n",
      "Gradboost with lambda = 2\n",
      "Gradboost model: F1 score - Training 0.979 - Validation 0.976\n",
      "-----------\n",
      "Gradboost with lambda = 4\n",
      "Gradboost model: F1 score - Training 0.979 - Validation 0.976\n",
      "-----------\n",
      "Gradboost with lambda = 8\n",
      "Gradboost model: F1 score - Training 0.979 - Validation 0.976\n",
      "-----------\n",
      "Gradboost with lambda = 16\n",
      "Gradboost model: F1 score - Training 0.979 - Validation 0.976\n",
      "-----------\n",
      "Gradboost with lambda = 32\n",
      "Gradboost model: F1 score - Training 0.979 - Validation 0.976\n",
      "-----------\n",
      "Gradboost with lambda = 64\n",
      "Gradboost model: F1 score - Training 0.979 - Validation 0.976\n",
      "-----------\n",
      "Gradboost with lambda = 128\n",
      "Gradboost model: F1 score - Training 0.978 - Validation 0.976\n",
      "-----------\n",
      "Gradboost with lambda = 256\n",
      "Gradboost model: F1 score - Training 0.978 - Validation 0.975\n",
      "-----------\n",
      "Gradboost with lambda = 512\n",
      "Gradboost model: F1 score - Training 0.978 - Validation 0.975\n",
      "-----------\n"
     ]
    }
   ],
   "source": [
    "for lmbda in [2**i for i in range(-2,10)]:\n",
    "    print \"Gradboost with lambda =\", lmbda\n",
    "    gb.run(lmbda)\n",
    "    print '-----------'"
   ]
  },
  {
   "cell_type": "markdown",
   "metadata": {},
   "source": [
    "# Features importance"
   ]
  },
  {
   "cell_type": "code",
   "execution_count": 13,
   "metadata": {},
   "outputs": [
    {
     "name": "stdout",
     "output_type": "stream",
     "text": [
      "[nltk_data] Downloading package punkt to /Users/adib/nltk_data...\n",
      "[nltk_data]   Package punkt is already up-to-date!\n",
      "[nltk_data] Downloading package stopwords to /Users/adib/nltk_data...\n",
      "[nltk_data]   Package stopwords is already up-to-date!\n",
      "predictors\n",
      "\n",
      "\n",
      "Predicting stuff... \n",
      "Training: 615512 \n",
      "Reduced training: 61551 \n",
      "Testing: 32648\n",
      "\n",
      "Read features from stored data!\n"
     ]
    }
   ],
   "source": [
    "gb = Gradboost(predictor_settings)\n",
    "gb.load_features(\"stored_training_v3.txt\", \"stored_testing_v3.txt\")"
   ]
  },
  {
   "cell_type": "code",
   "execution_count": 14,
   "metadata": {
    "collapsed": true
   },
   "outputs": [],
   "source": [
    "features_list = ['overlap_title', 'temp_diff', 'comm_auth','tfidf_distance_corpus', 'tfidf_distance_titles',\n",
    "                 'tfidf_distance_authors','num_inc_edges', 'shortest_path_dijkstra',\n",
    "                 'shortest_path_dijkstra_und', 'jaccard_und']"
   ]
  },
  {
   "cell_type": "code",
   "execution_count": 22,
   "metadata": {},
   "outputs": [
    {
     "name": "stdout",
     "output_type": "stream",
     "text": [
      "Gradboost Model with removed features:  ['overlap_title']\n",
      "Gradboost model: F1 score - Training 0.979 - Validation 0.976\n",
      "-----------\n",
      "Gradboost Model with removed features:  ['temp_diff']\n",
      "Gradboost model: F1 score - Training 0.974 - Validation 0.970\n",
      "-----------\n",
      "Gradboost Model with removed features:  ['comm_auth']\n",
      "Gradboost model: F1 score - Training 0.978 - Validation 0.976\n",
      "-----------\n",
      "Gradboost Model with removed features:  ['tfidf_distance_corpus']\n",
      "Gradboost model: F1 score - Training 0.974 - Validation 0.972\n",
      "-----------\n",
      "Gradboost Model with removed features:  ['tfidf_distance_titles']\n",
      "Gradboost model: F1 score - Training 0.978 - Validation 0.975\n",
      "-----------\n",
      "Gradboost Model with removed features:  ['tfidf_distance_authors']\n",
      "Gradboost model: F1 score - Training 0.978 - Validation 0.975\n",
      "-----------\n",
      "Gradboost Model with removed features:  ['num_inc_edges']\n",
      "Gradboost model: F1 score - Training 0.977 - Validation 0.975\n",
      "-----------\n",
      "Gradboost Model with removed features:  ['shortest_path_dijkstra']\n",
      "Gradboost model: F1 score - Training 0.977 - Validation 0.974\n",
      "-----------\n",
      "Gradboost Model with removed features:  ['shortest_path_dijkstra_und']\n",
      "Gradboost model: F1 score - Training 0.978 - Validation 0.974\n",
      "-----------\n",
      "Gradboost Model with removed features:  ['jaccard_und']\n",
      "Gradboost model: F1 score - Training 0.978 - Validation 0.974\n",
      "-----------\n"
     ]
    }
   ],
   "source": [
    "for feat in features_list:\n",
    "    gb.run_([feat])\n",
    "    print '-----------'"
   ]
  },
  {
   "cell_type": "code",
   "execution_count": 23,
   "metadata": {},
   "outputs": [
    {
     "name": "stdout",
     "output_type": "stream",
     "text": [
      "Gradboost Model with removed features:  ['overlap_title', 'temp_diff', 'comm_auth']\n",
      "Gradboost model: F1 score - Training 0.974 - Validation 0.971\n"
     ]
    }
   ],
   "source": [
    "gb.run_(['overlap_title', 'temp_diff', 'comm_auth'])"
   ]
  },
  {
   "cell_type": "code",
   "execution_count": 24,
   "metadata": {},
   "outputs": [
    {
     "name": "stdout",
     "output_type": "stream",
     "text": [
      "Gradboost Model with removed features:  ['tfidf_distance_corpus', 'tfidf_distance_titles', 'tfidf_distance_authors']\n",
      "Gradboost model: F1 score - Training 0.971 - Validation 0.971\n"
     ]
    }
   ],
   "source": [
    "gb.run_(['tfidf_distance_corpus', 'tfidf_distance_titles','tfidf_distance_authors'])"
   ]
  },
  {
   "cell_type": "code",
   "execution_count": 26,
   "metadata": {},
   "outputs": [
    {
     "name": "stdout",
     "output_type": "stream",
     "text": [
      "Gradboost Model with removed features:  ['num_inc_edges']\n",
      "Gradboost model: F1 score - Training 0.977 - Validation 0.975\n"
     ]
    }
   ],
   "source": [
    "gb.run_(['num_inc_edges'])"
   ]
  },
  {
   "cell_type": "code",
   "execution_count": 27,
   "metadata": {},
   "outputs": [
    {
     "name": "stdout",
     "output_type": "stream",
     "text": [
      "Gradboost Model with removed features:  ['shortest_path_dijkstra', 'shortest_path_dijkstra_und']\n",
      "Gradboost model: F1 score - Training 0.976 - Validation 0.973\n"
     ]
    }
   ],
   "source": [
    "gb.run_(['shortest_path_dijkstra','shortest_path_dijkstra_und'])"
   ]
  },
  {
   "cell_type": "code",
   "execution_count": 28,
   "metadata": {},
   "outputs": [
    {
     "name": "stdout",
     "output_type": "stream",
     "text": [
      "Gradboost Model with removed features:  ['jaccard_und']\n",
      "Gradboost model: F1 score - Training 0.978 - Validation 0.974\n"
     ]
    }
   ],
   "source": [
    "gb.run_(['jaccard_und'])"
   ]
  },
  {
   "cell_type": "code",
   "execution_count": null,
   "metadata": {
    "collapsed": true
   },
   "outputs": [],
   "source": []
  }
 ],
 "metadata": {
  "kernelspec": {
   "display_name": "Python 2",
   "language": "python",
   "name": "python2"
  },
  "language_info": {
   "codemirror_mode": {
    "name": "ipython",
    "version": 2
   },
   "file_extension": ".py",
   "mimetype": "text/x-python",
   "name": "python",
   "nbconvert_exporter": "python",
   "pygments_lexer": "ipython2",
   "version": "2.7.14"
  }
 },
 "nbformat": 4,
 "nbformat_minor": 2
}
